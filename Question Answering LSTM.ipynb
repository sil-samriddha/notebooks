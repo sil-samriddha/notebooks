{
 "cells": [
  {
   "cell_type": "code",
   "execution_count": 1,
   "id": "3687d1c7-ecc9-4731-9a12-be18c8da3c9c",
   "metadata": {},
   "outputs": [],
   "source": [
    "import numpy as np\n",
    "import matplotlib.pyplot as plt\n",
    "import re\n",
    "import tarfile\n",
    "import np_utils\n",
    "from functools import reduce\n",
    "\n",
    "from nltk.tokenize import word_tokenize\n",
    "\n",
    "import tensorflow as tf\n",
    "from tensorflow.keras.layers import Input, Activation, Dense, Dropout, Permute, Embedding, add, concatenate, dot, LSTM\n",
    "from tensorflow.keras.models import Model, Sequential\n",
    "from tensorflow.keras.preprocessing.sequence import pad_sequences\n",
    "from tensorflow.keras.utils import plot_model\n",
    "from tensorflow.keras.utils import get_file"
   ]
  },
  {
   "cell_type": "code",
   "execution_count": 2,
   "id": "4557b40b-53c2-4e47-a8f5-e6cb03d49be1",
   "metadata": {},
   "outputs": [
    {
     "name": "stdout",
     "output_type": "stream",
     "text": [
      "Downloading data from https://s3.amazonaws.com/text-datasets/babi_tasks_1-20_v1-2.tar.gz\n",
      "11745123/11745123 [==============================] - 9s 1us/step\n"
     ]
    }
   ],
   "source": [
    "## using babi-tasks-Dataset\n",
    "path = get_file('babi-tasks-v1-2.tar.gz',\n",
    "                origin='https://s3.amazonaws.com/text-datasets/babi_tasks_1-20_v1-2.tar.gz')\n",
    "\n",
    "tar = tarfile.open(path)"
   ]
  },
  {
   "cell_type": "markdown",
   "id": "3553a4fe-7764-40cd-ae09-cebce1186b5e",
   "metadata": {},
   "source": [
    "Data format : \n",
    "- A story starts from line 1 to line 15.\n",
    "- Every 3rd line,  there is a question &amp;amp;amp;amp;amp; answer."
   ]
  },
  {
   "cell_type": "code",
   "execution_count": 3,
   "id": "e8b1a612-6dc3-49e2-802f-a3e9893c5f7c",
   "metadata": {},
   "outputs": [],
   "source": [
    "## extracts sub-stories and creates tuples\n",
    "\n",
    "def parse_stories(lines):\n",
    "    data = []\n",
    "    story = []\n",
    "    for line in lines:\n",
    "        line = line.decode('utf-8').strip()\n",
    "        nid, line = line.split(' ', 1)\n",
    "        nid = int(nid)\n",
    "        if nid == 1:\n",
    "            # reset story when line ID=1 (start of new story)\n",
    "            story = []\n",
    "        if '\\t' in line:\n",
    "            # this line is tab separated Q, A &amp;amp;amp;amp;amp; support fact ID\n",
    "            q, a, supporting = line.split('\\t')\n",
    "            # tokenize the words of question\n",
    "            q = word_tokenize(q)\n",
    "            # Provide all the sub-stories till this question\n",
    "            substory = [x for x in story if x]\n",
    "            # A story ends and is appended to global story data-set\n",
    "            data.append((substory, q, a))\n",
    "            story.append('')\n",
    "        else:\n",
    "            # this line is a sentence of story\n",
    "            sent = word_tokenize(line)\n",
    "            story.append(sent)\n",
    "    return data"
   ]
  },
  {
   "cell_type": "code",
   "execution_count": 4,
   "id": "30bfcfaf-32fe-4e35-a49c-67c1b99b7c43",
   "metadata": {},
   "outputs": [],
   "source": [
    "## returns list of all stories in the argument data-set file\n",
    "\n",
    "def get_stories(f):\n",
    "    # read the data file and parse 10k stories\n",
    "    data = parse_stories(f.readlines())\n",
    "    # lambda func to flatten the list of sentences into one list\n",
    "    flatten = lambda data: reduce(lambda x, y: x + y, data)\n",
    "    # creating list of tuples for each story\n",
    "    data = [(flatten(story), q, answer) for story, q, answer in data]\n",
    "    return data"
   ]
  },
  {
   "cell_type": "code",
   "execution_count": 5,
   "id": "12d6f7cb-0be7-4059-9a71-3a8f48b5d393",
   "metadata": {},
   "outputs": [],
   "source": [
    "challenge = 'tasks_1-20_v1-2/en-10k/qa1_single-supporting-fact_{}.txt'\n",
    "\n",
    "# Extracting train stories\n",
    "train_stories = get_stories(tar.extractfile(challenge.format('train')))\n",
    "# Extracting test stories\n",
    "test_stories = get_stories(tar.extractfile(challenge.format('test')))"
   ]
  },
  {
   "cell_type": "code",
   "execution_count": 6,
   "id": "a2d489ec-6816-4bc3-9980-267db1c3529c",
   "metadata": {},
   "outputs": [
    {
     "name": "stdout",
     "output_type": "stream",
     "text": [
      "Lenght of Vocab  : 21\n"
     ]
    }
   ],
   "source": [
    "vocab = set()\n",
    "\n",
    "for story,question,answer in train_stories + test_stories:\n",
    "    vocab |= set(story + question + [answer])\n",
    "\n",
    "vocab = sorted(vocab)\n",
    "vocab_size = len(vocab) +1\n",
    "\n",
    "print(f\"Lenght of Vocab  : {len(vocab)}\")"
   ]
  },
  {
   "cell_type": "code",
   "execution_count": 7,
   "id": "9c5b3bc3-73d3-44f1-8989-049e5e486d1e",
   "metadata": {},
   "outputs": [],
   "source": [
    "word_to_idx = {w:idx for idx,w in enumerate(vocab)}\n",
    "idx_to_word = {idx:w for idx,w in enumerate(vocab)}\n",
    "\n",
    "story_maxlen = max(map(len,(x for x,_,_ in train_stories +test_stories)))\n",
    "query_maxlen = max(map(len,(x for _,x,_ in train_stories +test_stories)))"
   ]
  },
  {
   "cell_type": "code",
   "execution_count": 8,
   "id": "548dbeb2-20eb-4f58-9045-831506b75da3",
   "metadata": {},
   "outputs": [],
   "source": [
    "def vectorize_stories(data, word_idx, story_maxlen, query_maxlen):\n",
    "    X = []  # story vector initialization\n",
    "    Xq = []  # query vector initialization\n",
    "    Y = []  # answer vector intialization\n",
    "    \n",
    "    for story, query, answer in data:\n",
    "        x = [word_idx[w] for w in story]  # creating list of story word indices\n",
    "        xq = [word_idx[w] for w in query]  # creating list of query word indices\n",
    "        y = np.zeros(len(word_idx) + 1)  # let's not forget that index 0 is reserved\n",
    "        y[word_idx[answer]] = 1  # creating label 1 for the answer word index\n",
    "        \n",
    "        X.append(x)\n",
    "        Xq.append(xq)\n",
    "        Y.append(y)\n",
    "        \n",
    "    return (pad_sequences(X, maxlen=story_maxlen),\n",
    "            pad_sequences(Xq, maxlen=query_maxlen), np.array(Y))"
   ]
  },
  {
   "cell_type": "code",
   "execution_count": 9,
   "id": "1ff5751c-a712-42e2-8d9d-8b667f236010",
   "metadata": {},
   "outputs": [],
   "source": [
    "# vectorize train story, query and answer sentences/word using vocab\n",
    "inputs_train, queries_train, answers_train = vectorize_stories(train_stories,word_to_idx,story_maxlen,query_maxlen)\n",
    "\n",
    "# vectorize test story, query and answer sentences/word using vocab\n",
    "inputs_test, queries_test, answers_test = vectorize_stories(test_stories,word_to_idx,story_maxlen,query_maxlen)"
   ]
  },
  {
   "cell_type": "code",
   "execution_count": 10,
   "id": "fcb16394-1b40-47eb-9846-702113dd6bba",
   "metadata": {},
   "outputs": [],
   "source": [
    "train_epochs = 100\n",
    "batch_size = 32\n",
    "embed_size = 50\n",
    "lstm_size = 64\n",
    "dropout_rate = 0.30"
   ]
  },
  {
   "cell_type": "code",
   "execution_count": 11,
   "id": "d2b0dbd3-8a03-4f48-b5ae-5758d460071c",
   "metadata": {},
   "outputs": [
    {
     "name": "stdout",
     "output_type": "stream",
     "text": [
      "Input sequence: KerasTensor(type_spec=TensorSpec(shape=(None, 68), dtype=tf.float32, name='input_1'), name='input_1', description=\"created by layer 'input_1'\")\n",
      "Question: KerasTensor(type_spec=TensorSpec(shape=(None, 4), dtype=tf.float32, name='input_2'), name='input_2', description=\"created by layer 'input_2'\")\n"
     ]
    }
   ],
   "source": [
    "# placeholders\n",
    "input_sequence = Input((story_maxlen,))\n",
    "question = Input((query_maxlen,))\n",
    " \n",
    "print('Input sequence:', input_sequence)\n",
    "print('Question:', question)"
   ]
  },
  {
   "cell_type": "code",
   "execution_count": 12,
   "id": "8846cbec-7da4-423b-99db-cc013e079237",
   "metadata": {},
   "outputs": [],
   "source": [
    "# encoders\n",
    "\n",
    "# embed the input sequence into a sequence of vectors\n",
    "input_encoder_m = Sequential()\n",
    "input_encoder_m.add(Embedding(input_dim=vocab_size,\n",
    "                              output_dim=embed_size))\n",
    "\n",
    "input_encoder_m.add(Dropout(dropout_rate))\n",
    "\n",
    "# output: (samples, story_maxlen, embedding_dim)"
   ]
  },
  {
   "cell_type": "code",
   "execution_count": 13,
   "id": "77d95955-e0d4-4e43-93e2-7d1d55b68915",
   "metadata": {},
   "outputs": [],
   "source": [
    "# embed the input into a sequence of vectors of size query_maxlen\n",
    "\n",
    "input_encoder_c = Sequential()\n",
    "input_encoder_c.add(Embedding(input_dim=vocab_size,\n",
    "                              output_dim=query_maxlen))\n",
    "\n",
    "input_encoder_c.add(Dropout(dropout_rate))\n",
    "\n",
    "# output: (samples, story_maxlen, query_maxlen)"
   ]
  },
  {
   "cell_type": "code",
   "execution_count": 14,
   "id": "d243f7ff-a8bd-485e-86fe-905ba0ad7057",
   "metadata": {},
   "outputs": [],
   "source": [
    "# embed the question into a sequence of vectors\n",
    "\n",
    "question_encoder = Sequential()\n",
    "question_encoder.add(Embedding(input_dim=vocab_size,\n",
    "                               output_dim=embed_size,\n",
    "                               input_length=query_maxlen))\n",
    "\n",
    "question_encoder.add(Dropout(dropout_rate))\n",
    "\n",
    "# output: (samples, query_maxlen, embedding_dim)"
   ]
  },
  {
   "cell_type": "code",
   "execution_count": 15,
   "id": "74dc9f5d-6d51-434d-bfa7-0afb0a5fdf9c",
   "metadata": {},
   "outputs": [
    {
     "name": "stdout",
     "output_type": "stream",
     "text": [
      "Input encoded m KerasTensor(type_spec=TensorSpec(shape=(None, 68, 50), dtype=tf.float32, name=None), name='sequential/dropout/Identity:0', description=\"created by layer 'sequential'\")\n",
      "Input encoded c KerasTensor(type_spec=TensorSpec(shape=(None, 68, 4), dtype=tf.float32, name=None), name='sequential_1/dropout_1/Identity:0', description=\"created by layer 'sequential_1'\")\n",
      "Question encoded KerasTensor(type_spec=TensorSpec(shape=(None, 4, 50), dtype=tf.float32, name=None), name='sequential_2/dropout_2/Identity:0', description=\"created by layer 'sequential_2'\")\n"
     ]
    }
   ],
   "source": [
    "# encode input sequence and questions (which are indices)\n",
    "# to sequences of dense vectors\n",
    "\n",
    "input_encoded_m = input_encoder_m(input_sequence)\n",
    "print('Input encoded m', input_encoded_m)\n",
    "\n",
    "input_encoded_c = input_encoder_c(input_sequence)\n",
    "print('Input encoded c', input_encoded_c)\n",
    "\n",
    "question_encoded = question_encoder(question)\n",
    "print('Question encoded', question_encoded)"
   ]
  },
  {
   "cell_type": "code",
   "execution_count": 16,
   "id": "f950af96-9857-4c82-9eb6-3120ae7126f5",
   "metadata": {},
   "outputs": [
    {
     "name": "stdout",
     "output_type": "stream",
     "text": [
      "(None, 68, 4)\n",
      "Match shape KerasTensor(type_spec=TensorSpec(shape=(None, 68, 4), dtype=tf.float32, name=None), name='activation/Softmax:0', description=\"created by layer 'activation'\")\n"
     ]
    }
   ],
   "source": [
    "# compute a 'match' between the first input vector sequence\n",
    "# and the question vector sequence\n",
    "# shape: `(samples, story_maxlen, query_maxlen)\n",
    "\n",
    "match = dot([input_encoded_m, question_encoded], axes=-1, normalize=False)\n",
    "print(match.shape)\n",
    "\n",
    "match = Activation('softmax')(match)\n",
    "print('Match shape', match)"
   ]
  },
  {
   "cell_type": "code",
   "execution_count": 17,
   "id": "27360d21-22f7-40e2-9564-80141bbaa32d",
   "metadata": {},
   "outputs": [
    {
     "name": "stdout",
     "output_type": "stream",
     "text": [
      "Response shape KerasTensor(type_spec=TensorSpec(shape=(None, 4, 68), dtype=tf.float32, name=None), name='permute/transpose:0', description=\"created by layer 'permute'\")\n"
     ]
    }
   ],
   "source": [
    "# add the match matrix with the second input vector sequence\n",
    "\n",
    "response = add([match, input_encoded_c])  # (samples, story_maxlen, query_maxlen)\n",
    "response = Permute((2, 1))(response)  # (samples, query_maxlen, story_maxlen)\n",
    "print('Response shape', response)"
   ]
  },
  {
   "cell_type": "code",
   "execution_count": 18,
   "id": "e6379b7f-289b-4000-b68e-eebdc8c9acf0",
   "metadata": {},
   "outputs": [
    {
     "name": "stdout",
     "output_type": "stream",
     "text": [
      "Answer shape KerasTensor(type_spec=TensorSpec(shape=(None, 4, 118), dtype=tf.float32, name=None), name='concatenate/concat:0', description=\"created by layer 'concatenate'\")\n"
     ]
    }
   ],
   "source": [
    "# concatenate the response vector with the question vector sequence\n",
    "\n",
    "answer = concatenate([response, question_encoded])\n",
    "print('Answer shape', answer)"
   ]
  },
  {
   "cell_type": "code",
   "execution_count": 19,
   "id": "bddbdf8e-4831-49e4-83c2-66fbc6d6e843",
   "metadata": {},
   "outputs": [],
   "source": [
    "# Generate tensors of shape 32\n",
    "\n",
    "answer = LSTM(lstm_size)(answer)\n",
    "answer = Dropout(dropout_rate)(answer)\n",
    "answer = Dense(vocab_size)(answer)  # (samples, vocab_size)\n",
    "\n",
    "# we output a probability distribution over the vocabulary\n",
    "answer = Activation('softmax')(answer)"
   ]
  },
  {
   "cell_type": "code",
   "execution_count": 20,
   "id": "86a101b6-e71d-4809-84bb-4510a9036ad4",
   "metadata": {},
   "outputs": [
    {
     "name": "stdout",
     "output_type": "stream",
     "text": [
      "Model: \"model\"\n",
      "__________________________________________________________________________________________________\n",
      " Layer (type)                Output Shape                 Param #   Connected to                  \n",
      "==================================================================================================\n",
      " input_1 (InputLayer)        [(None, 68)]                 0         []                            \n",
      "                                                                                                  \n",
      " input_2 (InputLayer)        [(None, 4)]                  0         []                            \n",
      "                                                                                                  \n",
      " sequential (Sequential)     (None, None, 50)             1100      ['input_1[0][0]']             \n",
      "                                                                                                  \n",
      " sequential_2 (Sequential)   (None, 4, 50)                1100      ['input_2[0][0]']             \n",
      "                                                                                                  \n",
      " dot (Dot)                   (None, 68, 4)                0         ['sequential[0][0]',          \n",
      "                                                                     'sequential_2[0][0]']        \n",
      "                                                                                                  \n",
      " activation (Activation)     (None, 68, 4)                0         ['dot[0][0]']                 \n",
      "                                                                                                  \n",
      " sequential_1 (Sequential)   (None, None, 4)              88        ['input_1[0][0]']             \n",
      "                                                                                                  \n",
      " add (Add)                   (None, 68, 4)                0         ['activation[0][0]',          \n",
      "                                                                     'sequential_1[0][0]']        \n",
      "                                                                                                  \n",
      " permute (Permute)           (None, 4, 68)                0         ['add[0][0]']                 \n",
      "                                                                                                  \n",
      " concatenate (Concatenate)   (None, 4, 118)               0         ['permute[0][0]',             \n",
      "                                                                     'sequential_2[0][0]']        \n",
      "                                                                                                  \n",
      " lstm (LSTM)                 (None, 64)                   46848     ['concatenate[0][0]']         \n",
      "                                                                                                  \n",
      " dropout_3 (Dropout)         (None, 64)                   0         ['lstm[0][0]']                \n",
      "                                                                                                  \n",
      " dense (Dense)               (None, 22)                   1430      ['dropout_3[0][0]']           \n",
      "                                                                                                  \n",
      " activation_1 (Activation)   (None, 22)                   0         ['dense[0][0]']               \n",
      "                                                                                                  \n",
      "==================================================================================================\n",
      "Total params: 50566 (197.52 KB)\n",
      "Trainable params: 50566 (197.52 KB)\n",
      "Non-trainable params: 0 (0.00 Byte)\n",
      "__________________________________________________________________________________________________\n",
      "None\n"
     ]
    }
   ],
   "source": [
    "# build the model\n",
    "model = Model([input_sequence, question], answer)\n",
    "model.compile(optimizer='rmsprop', loss='categorical_crossentropy',\n",
    "              metrics=['accuracy'])\n",
    " \n",
    "print(model.summary())"
   ]
  },
  {
   "cell_type": "code",
   "execution_count": 21,
   "id": "3a868932-8bec-4a65-ae05-e26e5799b1ed",
   "metadata": {},
   "outputs": [
    {
     "data": {
      "image/png": "[encoded data removed]",
      "text/plain": [
       "<IPython.core.display.Image object>"
      ]
     },
     "execution_count": 21,
     "metadata": {},
     "output_type": "execute_result"
    }
   ],
   "source": [
    "plot_model(model)"
   ]
  },
  {
   "cell_type": "code",
   "execution_count": 22,
   "id": "f4d7c34b-a842-448c-9e18-cf2f8b226f34",
   "metadata": {},
   "outputs": [
    {
     "name": "stdout",
     "output_type": "stream",
     "text": [
      "Epoch 1/100\n",
      "313/313 [==============================] - 13s 17ms/step - loss: 1.8951 - accuracy: 0.1706 - val_loss: 1.7744 - val_accuracy: 0.2420\n",
      "Epoch 2/100\n",
      "313/313 [==============================] - 4s 13ms/step - loss: 1.7193 - accuracy: 0.2373 - val_loss: 1.7898 - val_accuracy: 0.2130\n",
      "Epoch 3/100\n",
      "313/313 [==============================] - 4s 13ms/step - loss: 1.6667 - accuracy: 0.2674 - val_loss: 1.6561 - val_accuracy: 0.3340\n",
      "Epoch 4/100\n",
      "313/313 [==============================] - 4s 13ms/step - loss: 1.5904 - accuracy: 0.3408 - val_loss: 1.5525 - val_accuracy: 0.3750\n",
      "Epoch 5/100\n",
      "313/313 [==============================] - 4s 13ms/step - loss: 1.5048 - accuracy: 0.3995 - val_loss: 1.5007 - val_accuracy: 0.4120\n",
      "Epoch 6/100\n",
      "313/313 [==============================] - 4s 13ms/step - loss: 1.4472 - accuracy: 0.4449 - val_loss: 1.4048 - val_accuracy: 0.4640\n",
      "Epoch 7/100\n",
      "313/313 [==============================] - 4s 13ms/step - loss: 1.3864 - accuracy: 0.4702 - val_loss: 1.3540 - val_accuracy: 0.4910\n",
      "Epoch 8/100\n",
      "313/313 [==============================] - 4s 13ms/step - loss: 1.3476 - accuracy: 0.4876 - val_loss: 1.3271 - val_accuracy: 0.4900\n",
      "Epoch 9/100\n",
      "313/313 [==============================] - 4s 13ms/step - loss: 1.3309 - accuracy: 0.4847 - val_loss: 1.3894 - val_accuracy: 0.4590\n",
      "Epoch 10/100\n",
      "313/313 [==============================] - 4s 13ms/step - loss: 1.3152 - accuracy: 0.4997 - val_loss: 1.3098 - val_accuracy: 0.5040\n",
      "Epoch 11/100\n",
      "313/313 [==============================] - 4s 14ms/step - loss: 1.3028 - accuracy: 0.5028 - val_loss: 1.3023 - val_accuracy: 0.4970\n",
      "Epoch 12/100\n",
      "313/313 [==============================] - 4s 14ms/step - loss: 1.2779 - accuracy: 0.5097 - val_loss: 1.2718 - val_accuracy: 0.5180\n",
      "Epoch 13/100\n",
      "313/313 [==============================] - 4s 13ms/step - loss: 1.2587 - accuracy: 0.5148 - val_loss: 1.2499 - val_accuracy: 0.5150\n",
      "Epoch 14/100\n",
      "313/313 [==============================] - 4s 13ms/step - loss: 1.2375 - accuracy: 0.5174 - val_loss: 1.2260 - val_accuracy: 0.5160\n",
      "Epoch 15/100\n",
      "313/313 [==============================] - 4s 13ms/step - loss: 1.2082 - accuracy: 0.5217 - val_loss: 1.1874 - val_accuracy: 0.5130\n",
      "Epoch 16/100\n",
      "313/313 [==============================] - 4s 14ms/step - loss: 1.1968 - accuracy: 0.5201 - val_loss: 1.1725 - val_accuracy: 0.5120\n",
      "Epoch 17/100\n",
      "313/313 [==============================] - 4s 14ms/step - loss: 1.1781 - accuracy: 0.5262 - val_loss: 1.1647 - val_accuracy: 0.5190\n",
      "Epoch 18/100\n",
      "313/313 [==============================] - 4s 13ms/step - loss: 1.1641 - accuracy: 0.5238 - val_loss: 1.1642 - val_accuracy: 0.5010\n",
      "Epoch 19/100\n",
      "313/313 [==============================] - 4s 14ms/step - loss: 1.1591 - accuracy: 0.5220 - val_loss: 1.1921 - val_accuracy: 0.5090\n",
      "Epoch 20/100\n",
      "313/313 [==============================] - 4s 13ms/step - loss: 1.1535 - accuracy: 0.5239 - val_loss: 1.1564 - val_accuracy: 0.5180\n",
      "Epoch 21/100\n",
      "313/313 [==============================] - 4s 14ms/step - loss: 1.1408 - accuracy: 0.5309 - val_loss: 1.1754 - val_accuracy: 0.5170\n",
      "Epoch 22/100\n",
      "313/313 [==============================] - 4s 14ms/step - loss: 1.1343 - accuracy: 0.5273 - val_loss: 1.1587 - val_accuracy: 0.5160\n",
      "Epoch 23/100\n",
      "313/313 [==============================] - 4s 14ms/step - loss: 1.1236 - accuracy: 0.5341 - val_loss: 1.1521 - val_accuracy: 0.5180\n",
      "Epoch 24/100\n",
      "313/313 [==============================] - 4s 13ms/step - loss: 1.1217 - accuracy: 0.5357 - val_loss: 1.1428 - val_accuracy: 0.5050\n",
      "Epoch 25/100\n",
      "313/313 [==============================] - 4s 13ms/step - loss: 1.1176 - accuracy: 0.5312 - val_loss: 1.1385 - val_accuracy: 0.5150\n",
      "Epoch 26/100\n",
      "313/313 [==============================] - 4s 13ms/step - loss: 1.1187 - accuracy: 0.5328 - val_loss: 1.1558 - val_accuracy: 0.5050\n",
      "Epoch 27/100\n",
      "313/313 [==============================] - 4s 14ms/step - loss: 1.0972 - accuracy: 0.5396 - val_loss: 1.1406 - val_accuracy: 0.5050\n",
      "Epoch 28/100\n",
      "313/313 [==============================] - 4s 13ms/step - loss: 1.0985 - accuracy: 0.5282 - val_loss: 1.1566 - val_accuracy: 0.5090\n",
      "Epoch 29/100\n",
      "313/313 [==============================] - 4s 13ms/step - loss: 1.0856 - accuracy: 0.5427 - val_loss: 1.1384 - val_accuracy: 0.5220\n",
      "Epoch 30/100\n",
      "313/313 [==============================] - 4s 13ms/step - loss: 1.0835 - accuracy: 0.5414 - val_loss: 1.1515 - val_accuracy: 0.5040\n",
      "Epoch 31/100\n",
      "313/313 [==============================] - 4s 14ms/step - loss: 1.0716 - accuracy: 0.5517 - val_loss: 1.1534 - val_accuracy: 0.5130\n",
      "Epoch 32/100\n",
      "313/313 [==============================] - 4s 13ms/step - loss: 1.0598 - accuracy: 0.5550 - val_loss: 1.1389 - val_accuracy: 0.5180\n",
      "Epoch 33/100\n",
      "313/313 [==============================] - 4s 13ms/step - loss: 1.0534 - accuracy: 0.5648 - val_loss: 1.1437 - val_accuracy: 0.5330\n",
      "Epoch 34/100\n",
      "313/313 [==============================] - 4s 13ms/step - loss: 1.0278 - accuracy: 0.5789 - val_loss: 1.1054 - val_accuracy: 0.5600\n",
      "Epoch 35/100\n",
      "313/313 [==============================] - 4s 14ms/step - loss: 0.9960 - accuracy: 0.6019 - val_loss: 1.0339 - val_accuracy: 0.5890\n",
      "Epoch 36/100\n",
      "313/313 [==============================] - 4s 14ms/step - loss: 0.9010 - accuracy: 0.6535 - val_loss: 0.8771 - val_accuracy: 0.6770\n",
      "Epoch 37/100\n",
      "313/313 [==============================] - 4s 14ms/step - loss: 0.7295 - accuracy: 0.7350 - val_loss: 0.7279 - val_accuracy: 0.7310\n",
      "Epoch 38/100\n",
      "313/313 [==============================] - 4s 13ms/step - loss: 0.6191 - accuracy: 0.7723 - val_loss: 0.6658 - val_accuracy: 0.7430\n",
      "Epoch 39/100\n",
      "313/313 [==============================] - 4s 13ms/step - loss: 0.5631 - accuracy: 0.7894 - val_loss: 0.5864 - val_accuracy: 0.7660\n",
      "Epoch 40/100\n",
      "313/313 [==============================] - 4s 13ms/step - loss: 0.5158 - accuracy: 0.8069 - val_loss: 0.5131 - val_accuracy: 0.7890\n",
      "Epoch 41/100\n",
      "313/313 [==============================] - 4s 13ms/step - loss: 0.4598 - accuracy: 0.8273 - val_loss: 0.4618 - val_accuracy: 0.8150\n",
      "Epoch 42/100\n",
      "313/313 [==============================] - 4s 13ms/step - loss: 0.4094 - accuracy: 0.8492 - val_loss: 0.4298 - val_accuracy: 0.8250\n",
      "Epoch 43/100\n",
      "313/313 [==============================] - 4s 13ms/step - loss: 0.3751 - accuracy: 0.8594 - val_loss: 0.4015 - val_accuracy: 0.8360\n",
      "Epoch 44/100\n",
      "313/313 [==============================] - 4s 13ms/step - loss: 0.3444 - accuracy: 0.8722 - val_loss: 0.3862 - val_accuracy: 0.8380\n",
      "Epoch 45/100\n",
      "313/313 [==============================] - 4s 13ms/step - loss: 0.3275 - accuracy: 0.8787 - val_loss: 0.3645 - val_accuracy: 0.8490\n",
      "Epoch 46/100\n",
      "313/313 [==============================] - 4s 13ms/step - loss: 0.3210 - accuracy: 0.8815 - val_loss: 0.3573 - val_accuracy: 0.8620\n",
      "Epoch 47/100\n",
      "313/313 [==============================] - 4s 13ms/step - loss: 0.3029 - accuracy: 0.8853 - val_loss: 0.3621 - val_accuracy: 0.8560\n",
      "Epoch 48/100\n",
      "313/313 [==============================] - 4s 13ms/step - loss: 0.2925 - accuracy: 0.8903 - val_loss: 0.3546 - val_accuracy: 0.8710\n",
      "Epoch 49/100\n",
      "313/313 [==============================] - 4s 13ms/step - loss: 0.2734 - accuracy: 0.8996 - val_loss: 0.3220 - val_accuracy: 0.8810\n",
      "Epoch 50/100\n",
      "313/313 [==============================] - 4s 14ms/step - loss: 0.2647 - accuracy: 0.9020 - val_loss: 0.3094 - val_accuracy: 0.8780\n",
      "Epoch 51/100\n",
      "313/313 [==============================] - 4s 13ms/step - loss: 0.2428 - accuracy: 0.9100 - val_loss: 0.2855 - val_accuracy: 0.8860\n",
      "Epoch 52/100\n",
      "313/313 [==============================] - 4s 13ms/step - loss: 0.2331 - accuracy: 0.9149 - val_loss: 0.3040 - val_accuracy: 0.8870\n",
      "Epoch 53/100\n",
      "313/313 [==============================] - 4s 13ms/step - loss: 0.2169 - accuracy: 0.9222 - val_loss: 0.2625 - val_accuracy: 0.8960\n",
      "Epoch 54/100\n",
      "313/313 [==============================] - 4s 13ms/step - loss: 0.1945 - accuracy: 0.9300 - val_loss: 0.2383 - val_accuracy: 0.9200\n",
      "Epoch 55/100\n",
      "313/313 [==============================] - 4s 13ms/step - loss: 0.1871 - accuracy: 0.9339 - val_loss: 0.2301 - val_accuracy: 0.9120\n",
      "Epoch 56/100\n",
      "313/313 [==============================] - 4s 13ms/step - loss: 0.1602 - accuracy: 0.9439 - val_loss: 0.2228 - val_accuracy: 0.9270\n",
      "Epoch 57/100\n",
      "313/313 [==============================] - 4s 13ms/step - loss: 0.1595 - accuracy: 0.9441 - val_loss: 0.2129 - val_accuracy: 0.9210\n",
      "Epoch 58/100\n",
      "313/313 [==============================] - 4s 13ms/step - loss: 0.1446 - accuracy: 0.9520 - val_loss: 0.2048 - val_accuracy: 0.9270\n",
      "Epoch 59/100\n",
      "313/313 [==============================] - 4s 13ms/step - loss: 0.1373 - accuracy: 0.9524 - val_loss: 0.1853 - val_accuracy: 0.9330\n",
      "Epoch 60/100\n",
      "313/313 [==============================] - 4s 14ms/step - loss: 0.1282 - accuracy: 0.9571 - val_loss: 0.1867 - val_accuracy: 0.9340\n",
      "Epoch 61/100\n",
      "313/313 [==============================] - 4s 13ms/step - loss: 0.1240 - accuracy: 0.9581 - val_loss: 0.1690 - val_accuracy: 0.9360\n",
      "Epoch 62/100\n",
      "313/313 [==============================] - 4s 13ms/step - loss: 0.1176 - accuracy: 0.9597 - val_loss: 0.1906 - val_accuracy: 0.9300\n",
      "Epoch 63/100\n",
      "313/313 [==============================] - 4s 13ms/step - loss: 0.1132 - accuracy: 0.9603 - val_loss: 0.1735 - val_accuracy: 0.9460\n",
      "Epoch 64/100\n",
      "313/313 [==============================] - 4s 13ms/step - loss: 0.1106 - accuracy: 0.9611 - val_loss: 0.1645 - val_accuracy: 0.9410\n",
      "Epoch 65/100\n",
      "313/313 [==============================] - 4s 13ms/step - loss: 0.1064 - accuracy: 0.9640 - val_loss: 0.1734 - val_accuracy: 0.9410\n",
      "Epoch 66/100\n",
      "313/313 [==============================] - 4s 13ms/step - loss: 0.0968 - accuracy: 0.9693 - val_loss: 0.1436 - val_accuracy: 0.9510\n",
      "Epoch 67/100\n",
      "313/313 [==============================] - 4s 13ms/step - loss: 0.0902 - accuracy: 0.9702 - val_loss: 0.1387 - val_accuracy: 0.9580\n",
      "Epoch 68/100\n",
      "313/313 [==============================] - 4s 13ms/step - loss: 0.0830 - accuracy: 0.9727 - val_loss: 0.1459 - val_accuracy: 0.9500\n",
      "Epoch 69/100\n",
      "313/313 [==============================] - 4s 13ms/step - loss: 0.0843 - accuracy: 0.9730 - val_loss: 0.1355 - val_accuracy: 0.9550\n",
      "Epoch 70/100\n",
      "313/313 [==============================] - 4s 13ms/step - loss: 0.0733 - accuracy: 0.9752 - val_loss: 0.1314 - val_accuracy: 0.9600\n",
      "Epoch 71/100\n",
      "313/313 [==============================] - 4s 13ms/step - loss: 0.0773 - accuracy: 0.9736 - val_loss: 0.1628 - val_accuracy: 0.9480\n",
      "Epoch 72/100\n",
      "313/313 [==============================] - 4s 14ms/step - loss: 0.0731 - accuracy: 0.9763 - val_loss: 0.1479 - val_accuracy: 0.9520\n",
      "Epoch 73/100\n",
      "313/313 [==============================] - 4s 13ms/step - loss: 0.0722 - accuracy: 0.9745 - val_loss: 0.1329 - val_accuracy: 0.9590\n",
      "Epoch 74/100\n",
      "313/313 [==============================] - 4s 14ms/step - loss: 0.0658 - accuracy: 0.9791 - val_loss: 0.1326 - val_accuracy: 0.9580\n",
      "Epoch 75/100\n",
      "313/313 [==============================] - 4s 13ms/step - loss: 0.0622 - accuracy: 0.9781 - val_loss: 0.1524 - val_accuracy: 0.9530\n",
      "Epoch 76/100\n",
      "313/313 [==============================] - 4s 13ms/step - loss: 0.0583 - accuracy: 0.9817 - val_loss: 0.1236 - val_accuracy: 0.9640\n",
      "Epoch 77/100\n",
      "313/313 [==============================] - 4s 13ms/step - loss: 0.0564 - accuracy: 0.9827 - val_loss: 0.1088 - val_accuracy: 0.9670\n",
      "Epoch 78/100\n",
      "313/313 [==============================] - 4s 13ms/step - loss: 0.0548 - accuracy: 0.9817 - val_loss: 0.1281 - val_accuracy: 0.9630\n",
      "Epoch 79/100\n",
      "313/313 [==============================] - 4s 14ms/step - loss: 0.0496 - accuracy: 0.9833 - val_loss: 0.1073 - val_accuracy: 0.9690\n",
      "Epoch 80/100\n",
      "313/313 [==============================] - 4s 13ms/step - loss: 0.0541 - accuracy: 0.9840 - val_loss: 0.1007 - val_accuracy: 0.9670\n",
      "Epoch 81/100\n",
      "313/313 [==============================] - 4s 13ms/step - loss: 0.0549 - accuracy: 0.9818 - val_loss: 0.1268 - val_accuracy: 0.9610\n",
      "Epoch 82/100\n",
      "313/313 [==============================] - 4s 13ms/step - loss: 0.0483 - accuracy: 0.9840 - val_loss: 0.0975 - val_accuracy: 0.9680\n",
      "Epoch 83/100\n",
      "313/313 [==============================] - 4s 13ms/step - loss: 0.0426 - accuracy: 0.9860 - val_loss: 0.1038 - val_accuracy: 0.9720\n",
      "Epoch 84/100\n",
      "313/313 [==============================] - 4s 13ms/step - loss: 0.0433 - accuracy: 0.9863 - val_loss: 0.1377 - val_accuracy: 0.9580\n",
      "Epoch 85/100\n",
      "313/313 [==============================] - 4s 13ms/step - loss: 0.0503 - accuracy: 0.9836 - val_loss: 0.0988 - val_accuracy: 0.9680\n",
      "Epoch 86/100\n",
      "313/313 [==============================] - 4s 13ms/step - loss: 0.0385 - accuracy: 0.9873 - val_loss: 0.0766 - val_accuracy: 0.9750\n",
      "Epoch 87/100\n",
      "313/313 [==============================] - 4s 13ms/step - loss: 0.0414 - accuracy: 0.9869 - val_loss: 0.0742 - val_accuracy: 0.9800\n",
      "Epoch 88/100\n",
      "313/313 [==============================] - 4s 13ms/step - loss: 0.0407 - accuracy: 0.9869 - val_loss: 0.1102 - val_accuracy: 0.9630\n",
      "Epoch 89/100\n",
      "313/313 [==============================] - 4s 13ms/step - loss: 0.0380 - accuracy: 0.9890 - val_loss: 0.1044 - val_accuracy: 0.9680\n",
      "Epoch 90/100\n",
      "313/313 [==============================] - 4s 13ms/step - loss: 0.0337 - accuracy: 0.9906 - val_loss: 0.0910 - val_accuracy: 0.9720\n",
      "Epoch 91/100\n",
      "313/313 [==============================] - 4s 13ms/step - loss: 0.0308 - accuracy: 0.9909 - val_loss: 0.1023 - val_accuracy: 0.9690\n",
      "Epoch 92/100\n",
      "313/313 [==============================] - 4s 13ms/step - loss: 0.0355 - accuracy: 0.9894 - val_loss: 0.0853 - val_accuracy: 0.9740\n",
      "Epoch 93/100\n",
      "313/313 [==============================] - 4s 13ms/step - loss: 0.0321 - accuracy: 0.9902 - val_loss: 0.0841 - val_accuracy: 0.9730\n",
      "Epoch 94/100\n",
      "313/313 [==============================] - 4s 14ms/step - loss: 0.0273 - accuracy: 0.9924 - val_loss: 0.1023 - val_accuracy: 0.9740\n",
      "Epoch 95/100\n",
      "313/313 [==============================] - 4s 13ms/step - loss: 0.0345 - accuracy: 0.9903 - val_loss: 0.0741 - val_accuracy: 0.9770\n",
      "Epoch 96/100\n",
      "313/313 [==============================] - 4s 13ms/step - loss: 0.0297 - accuracy: 0.9905 - val_loss: 0.0861 - val_accuracy: 0.9780\n",
      "Epoch 97/100\n",
      "313/313 [==============================] - 4s 13ms/step - loss: 0.0335 - accuracy: 0.9909 - val_loss: 0.0706 - val_accuracy: 0.9800\n",
      "Epoch 98/100\n",
      "313/313 [==============================] - 4s 14ms/step - loss: 0.0295 - accuracy: 0.9917 - val_loss: 0.0688 - val_accuracy: 0.9800\n",
      "Epoch 99/100\n",
      "313/313 [==============================] - 4s 14ms/step - loss: 0.0326 - accuracy: 0.9909 - val_loss: 0.0800 - val_accuracy: 0.9760\n",
      "Epoch 100/100\n",
      "313/313 [==============================] - 4s 13ms/step - loss: 0.0254 - accuracy: 0.9924 - val_loss: 0.0793 - val_accuracy: 0.9770\n"
     ]
    }
   ],
   "source": [
    "# start training the model\n",
    "history = model.fit([inputs_train, queries_train], answers_train, \n",
    "                    batch_size=batch_size, \n",
    "                    epochs=train_epochs,\n",
    "                    validation_data=([inputs_test, queries_test], answers_test))"
   ]
  },
  {
   "cell_type": "code",
   "execution_count": 24,
   "id": "5896d5ac-1b14-4256-8b28-b8b94ab387df",
   "metadata": {},
   "outputs": [
    {
     "data": {
      "image/png": "[encoded data removed]",
      "text/plain": [
       "<Figure size 1400x600 with 2 Axes>"
      ]
     },
     "metadata": {},
     "output_type": "display_data"
    }
   ],
   "source": [
    "fig, (ax1, ax2) = plt.subplots(1, 2, figsize=(14, 6))\n",
    "\n",
    "# Plot Model Loss\n",
    "ax1.plot(history.history['loss'], label='Training Loss')\n",
    "ax1.plot(history.history['val_loss'], label='Validation Loss')\n",
    "ax1.set_title('Model Loss')\n",
    "ax1.set_ylabel('Loss')\n",
    "ax1.set_xlabel('Epoch')\n",
    "ax1.legend()\n",
    "\n",
    "# Plot Model Accuracy\n",
    "ax2.plot(history.history['accuracy'], label='Training Accuracy')\n",
    "ax2.plot(history.history['val_accuracy'], label='Validation Accuracy')\n",
    "ax2.set_title('Model Accuracy')\n",
    "ax2.set_ylabel('Accuracy')\n",
    "ax2.set_xlabel('Epoch')\n",
    "ax2.legend()\n",
    "\n",
    "# Adjust layout to prevent overlap\n",
    "plt.tight_layout()\n",
    "\n",
    "# Show the plots\n",
    "plt.show()"
   ]
  },
  {
   "cell_type": "code",
   "execution_count": 25,
   "id": "ebb513bb-359b-47e4-9ed5-e293959a704f",
   "metadata": {},
   "outputs": [],
   "source": [
    "# save model\n",
    "model.save('QA-model.keras')"
   ]
  },
  {
   "cell_type": "code",
   "execution_count": 27,
   "id": "49ba02a1-4827-47aa-bb67-cbc4aa33476d",
   "metadata": {},
   "outputs": [
    {
     "name": "stdout",
     "output_type": "stream",
     "text": [
      "1/1 [==============================] - 0s 54ms/step\n",
      "Question : Where is Sandra ? \n",
      "Answer : hallway\n",
      "1/1 [==============================] - 0s 66ms/step\n",
      "Question : Where is Sandra ? \n",
      "Answer : garden\n",
      "1/1 [==============================] - 0s 63ms/step\n",
      "Question : Where is Daniel ? \n",
      "Answer : hallway\n",
      "1/1 [==============================] - 0s 64ms/step\n",
      "Question : Where is Sandra ? \n",
      "Answer : office\n",
      "1/1 [==============================] - 0s 60ms/step\n",
      "Question : Where is Daniel ? \n",
      "Answer : office\n",
      "1/1 [==============================] - 0s 56ms/step\n",
      "Question : Where is Mary ? \n",
      "Answer : kitchen\n",
      "1/1 [==============================] - 0s 47ms/step\n",
      "Question : Where is Mary ? \n",
      "Answer : garden\n",
      "1/1 [==============================] - 0s 54ms/step\n",
      "Question : Where is Daniel ? \n",
      "Answer : office\n",
      "1/1 [==============================] - 0s 40ms/step\n",
      "Question : Where is Mary ? \n",
      "Answer : bedroom\n",
      "1/1 [==============================] - 0s 47ms/step\n",
      "Question : Where is Mary ? \n",
      "Answer : bedroom\n",
      "1/1 [==============================] - 0s 53ms/step\n",
      "Question : Where is John ? \n",
      "Answer : kitchen\n",
      "1/1 [==============================] - 0s 50ms/step\n",
      "Question : Where is John ? \n",
      "Answer : garden\n",
      "1/1 [==============================] - 0s 47ms/step\n",
      "Question : Where is John ? \n",
      "Answer : kitchen\n",
      "1/1 [==============================] - 0s 47ms/step\n",
      "Question : Where is Daniel ? \n",
      "Answer : office\n",
      "1/1 [==============================] - 0s 48ms/step\n",
      "Question : Where is John ? \n",
      "Answer : kitchen\n",
      "1/1 [==============================] - 0s 51ms/step\n",
      "Question : Where is Mary ? \n",
      "Answer : hallway\n",
      "1/1 [==============================] - 0s 42ms/step\n",
      "Question : Where is John ? \n",
      "Answer : office\n",
      "1/1 [==============================] - 0s 42ms/step\n",
      "Question : Where is John ? \n",
      "Answer : office\n",
      "1/1 [==============================] - 0s 47ms/step\n",
      "Question : Where is Sandra ? \n",
      "Answer : hallway\n",
      "1/1 [==============================] - 0s 46ms/step\n",
      "Question : Where is Daniel ? \n",
      "Answer : bedroom\n",
      "1/1 [==============================] - 0s 55ms/step\n",
      "Question : Where is Sandra ? \n",
      "Answer : bedroom\n",
      "1/1 [==============================] - 0s 42ms/step\n",
      "Question : Where is Mary ? \n",
      "Answer : bedroom\n",
      "1/1 [==============================] - 0s 47ms/step\n",
      "Question : Where is Daniel ? \n",
      "Answer : kitchen\n",
      "1/1 [==============================] - 0s 52ms/step\n",
      "Question : Where is Daniel ? \n",
      "Answer : kitchen\n",
      "1/1 [==============================] - 0s 42ms/step\n",
      "Question : Where is Daniel ? \n",
      "Answer : kitchen\n",
      "1/1 [==============================] - 0s 48ms/step\n",
      "Question : Where is Sandra ? \n",
      "Answer : hallway\n",
      "1/1 [==============================] - 0s 43ms/step\n",
      "Question : Where is John ? \n",
      "Answer : office\n",
      "1/1 [==============================] - 0s 43ms/step\n",
      "Question : Where is Sandra ? \n",
      "Answer : kitchen\n",
      "1/1 [==============================] - 0s 48ms/step\n",
      "Question : Where is Sandra ? \n",
      "Answer : kitchen\n",
      "1/1 [==============================] - 0s 46ms/step\n",
      "Question : Where is Sandra ? \n",
      "Answer : bathroom\n"
     ]
    }
   ],
   "source": [
    "for i in range(5,35):\n",
    "    \n",
    "    current_inp = test_stories[i]\n",
    "    current_story, current_query, current_answer = vectorize_stories([current_inp], word_to_idx, story_maxlen, query_maxlen)\n",
    "    \n",
    "    current_prediction = model.predict([current_story, current_query])\n",
    "    current_pred = idx_to_word[np.argmax(current_prediction)]\n",
    "    \n",
    "    ques = \" \".join(current_inp[1])\n",
    "    print(f\"Question : {ques} \\nAnswer : {current_pred}\")"
   ]
  },
  {
   "cell_type": "code",
   "execution_count": null,
   "id": "841f1a00-e17d-420c-a1c5-c14755355528",
   "metadata": {},
   "outputs": [],
   "source": []
  }
 ],
 "metadata": {
  "kernelspec": {
   "display_name": "Python 3 (ipykernel)",
   "language": "python",
   "name": "python3"
  },
  "language_info": {
   "codemirror_mode": {
    "name": "ipython",
    "version": 3
   },
   "file_extension": ".py",
   "mimetype": "text/x-python",
   "name": "python",
   "nbconvert_exporter": "python",
   "pygments_lexer": "ipython3",
   "version": "3.11.7"
  }
 },
 "nbformat": 4,
 "nbformat_minor": 5
}
