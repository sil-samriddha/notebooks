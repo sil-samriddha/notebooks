{
 "cells": [
  {
   "cell_type": "markdown",
   "id": "5ec3f916-238f-4a1b-825d-b745fc90e626",
   "metadata": {},
   "source": [
    "## Next Word Prediction using LSTM"
   ]
  },
  {
   "cell_type": "code",
   "execution_count": 1,
   "id": "d5b490ac-40dc-45d2-a76e-3dab896c0ebe",
   "metadata": {},
   "outputs": [],
   "source": [
    "import numpy as np\n",
    "import pandas as pd\n",
    "\n",
    "import tensorflow as tf\n",
    "from tensorflow.keras.preprocessing.text import Tokenizer\n",
    "from tensorflow.keras.preprocessing.sequence import pad_sequences\n",
    "from tensorflow.keras.layers import Embedding, LSTM, Dense, Bidirectional\n",
    "from tensorflow.keras.models import Sequential\n",
    "from tensorflow.keras.optimizers import Adam"
   ]
  },
  {
   "cell_type": "code",
   "execution_count": 2,
   "id": "cb0e29e8-97bf-441d-90a4-d50efdf29353",
   "metadata": {},
   "outputs": [
    {
     "data": {
      "text/html": [
       "<div>\n",
       "<style scoped>\n",
       "    .dataframe tbody tr th:only-of-type {\n",
       "        vertical-align: middle;\n",
       "    }\n",
       "\n",
       "    .dataframe tbody tr th {\n",
       "        vertical-align: top;\n",
       "    }\n",
       "\n",
       "    .dataframe thead th {\n",
       "        text-align: right;\n",
       "    }\n",
       "</style>\n",
       "<table border=\"1\" class=\"dataframe\">\n",
       "  <thead>\n",
       "    <tr style=\"text-align: right;\">\n",
       "      <th></th>\n",
       "      <th>topic</th>\n",
       "      <th>text</th>\n",
       "    </tr>\n",
       "  </thead>\n",
       "  <tbody>\n",
       "    <tr>\n",
       "      <th>0</th>\n",
       "      <td>car</td>\n",
       "      <td>Cars are like four-wheeled engines on wheels t...</td>\n",
       "    </tr>\n",
       "    <tr>\n",
       "      <th>1</th>\n",
       "      <td>car</td>\n",
       "      <td>Once a futuristic dream, cars are now everyday...</td>\n",
       "    </tr>\n",
       "    <tr>\n",
       "      <th>2</th>\n",
       "      <td>car</td>\n",
       "      <td>Cars are like our modern horse and carriage! T...</td>\n",
       "    </tr>\n",
       "    <tr>\n",
       "      <th>3</th>\n",
       "      <td>car</td>\n",
       "      <td>From clunky contraptions to sleek machines, ca...</td>\n",
       "    </tr>\n",
       "    <tr>\n",
       "      <th>4</th>\n",
       "      <td>car</td>\n",
       "      <td>Imagine a metal cheetah, purring with power! C...</td>\n",
       "    </tr>\n",
       "  </tbody>\n",
       "</table>\n",
       "</div>"
      ],
      "text/plain": [
       "  topic                                               text\n",
       "0   car  Cars are like four-wheeled engines on wheels t...\n",
       "1   car  Once a futuristic dream, cars are now everyday...\n",
       "2   car  Cars are like our modern horse and carriage! T...\n",
       "3   car  From clunky contraptions to sleek machines, ca...\n",
       "4   car  Imagine a metal cheetah, purring with power! C..."
      ]
     },
     "execution_count": 2,
     "metadata": {},
     "output_type": "execute_result"
    }
   ],
   "source": [
    "df = pd.read_csv(\"about_topics.csv\", nrows=10)\n",
    "df.head()"
   ]
  },
  {
   "cell_type": "code",
   "execution_count": 3,
   "id": "9e675ed5-7172-4801-b012-e9c6affd1be3",
   "metadata": {},
   "outputs": [
    {
     "data": {
      "text/plain": [
       "\"Cars are like four-wheeled engines on wheels that zoom us around. They usually have space for a handful of people and come in all shapes and sizes, from tiny and sporty to big and comfy. Cars have a special engine inside that burns fuel, like gasoline or electricity, to give them the power to move. We steer them with a wheel and use pedals to brake and go! Cars help us travel long distances or get around town quickly. They can be a lot of fun to ride in, but it's important to remember to always wear a seatbelt and follow traffic rules to stay safe.\""
      ]
     },
     "execution_count": 3,
     "metadata": {},
     "output_type": "execute_result"
    }
   ],
   "source": [
    "corpus = [sent for sent in df['text']]\n",
    "\n",
    "corpus[0]"
   ]
  },
  {
   "cell_type": "code",
   "execution_count": 4,
   "id": "a4ffde4e-fe5d-48a9-9ee1-7f7a7ad77d19",
   "metadata": {},
   "outputs": [
    {
     "name": "stdout",
     "output_type": "stream",
     "text": [
      "314\n"
     ]
    }
   ],
   "source": [
    "tokenizer = Tokenizer()\n",
    "tokenizer.fit_on_texts(corpus)\n",
    "\n",
    "total_words = len(tokenizer.word_index) + 1\n",
    "print(total_words)"
   ]
  },
  {
   "cell_type": "code",
   "execution_count": 5,
   "id": "2ae0c7c1-3bdb-4492-aac3-aa9e7df05955",
   "metadata": {},
   "outputs": [
    {
     "data": {
      "text/plain": [
       "[[7, 12],\n",
       " [7, 12, 6],\n",
       " [7, 12, 6, 28],\n",
       " [7, 12, 6, 28, 44],\n",
       " [7, 12, 6, 28, 44, 72]]"
      ]
     },
     "execution_count": 5,
     "metadata": {},
     "output_type": "execute_result"
    }
   ],
   "source": [
    "input_seq = []\n",
    "\n",
    "for c in corpus:\n",
    "    tokens = tokenizer.texts_to_sequences([c])[0]\n",
    "    for i in range(1, len(tokens)):\n",
    "        ng_seq = tokens[:i+1]\n",
    "        input_seq.append(ng_seq)\n",
    "input_seq[:5]"
   ]
  },
  {
   "cell_type": "code",
   "execution_count": 6,
   "id": "b3d8a7d3-9442-4495-a497-d4766fcf86f4",
   "metadata": {},
   "outputs": [
    {
     "name": "stdout",
     "output_type": "stream",
     "text": [
      "[7, 12, 6, 28, 44, 72]\n",
      "['cars', 'are', 'like', 'four', 'wheeled', 'engines']\n"
     ]
    }
   ],
   "source": [
    "print(input_seq[4])\n",
    "\n",
    "setence_token = input_seq[4]\n",
    "sentence = []\n",
    "for token in setence_token:\n",
    "    sentence.append(list((tokenizer.word_index).keys())[list((tokenizer.word_index).values()).index(token)])\n",
    "\n",
    "print(sentence)"
   ]
  },
  {
   "cell_type": "code",
   "execution_count": 7,
   "id": "848dbb4a-d30a-44f7-9f62-6aebb9c6c09b",
   "metadata": {},
   "outputs": [],
   "source": [
    "max_seq_len = max([len(seq) for seq in input_seq])\n",
    "input_seq = np.array(pad_sequences(input_seq, maxlen=max_seq_len, padding='pre'))"
   ]
  },
  {
   "cell_type": "code",
   "execution_count": 8,
   "id": "274aae2a-008e-4a10-a5a6-9ad14d299df7",
   "metadata": {},
   "outputs": [],
   "source": [
    "X = input_seq[:, :-1]\n",
    "y = np.array(tf.keras.utils.to_categorical(input_seq[:, -1], num_classes=total_words))"
   ]
  },
  {
   "cell_type": "code",
   "execution_count": 9,
   "id": "1e74b35f-859b-4288-8b99-2dea83e1582c",
   "metadata": {},
   "outputs": [
    {
     "name": "stdout",
     "output_type": "stream",
     "text": [
      "Model: \"sequential\"\n",
      "_________________________________________________________________\n",
      " Layer (type)                Output Shape              Param #   \n",
      "=================================================================\n",
      " embedding (Embedding)       (None, 123, 100)          31400     \n",
      "                                                                 \n",
      " bidirectional (Bidirection  (None, 300)               301200    \n",
      " al)                                                             \n",
      "                                                                 \n",
      " dense (Dense)               (None, 314)               94514     \n",
      "                                                                 \n",
      "=================================================================\n",
      "Total params: 427114 (1.63 MB)\n",
      "Trainable params: 427114 (1.63 MB)\n",
      "Non-trainable params: 0 (0.00 Byte)\n",
      "_________________________________________________________________\n",
      "None\n"
     ]
    }
   ],
   "source": [
    "model = Sequential([\n",
    "    Embedding(total_words, 100, input_length=max_seq_len-1),\n",
    "    Bidirectional(LSTM(150)),\n",
    "    Dense(total_words, activation='softmax')\n",
    "])\n",
    "print(model.summary())"
   ]
  },
  {
   "cell_type": "code",
   "execution_count": 10,
   "id": "8fb6256d-9e4e-4177-bbff-b98060692fa7",
   "metadata": {},
   "outputs": [],
   "source": [
    "model.compile(loss='categorical_crossentropy',\n",
    "              optimizer=Adam(0.01),\n",
    "              metrics=['accuracy'])"
   ]
  },
  {
   "cell_type": "code",
   "execution_count": 11,
   "id": "dee9595e-91a5-471c-be4c-7e3d1035ad26",
   "metadata": {},
   "outputs": [
    {
     "name": "stdout",
     "output_type": "stream",
     "text": [
      "Epoch 1/20\n",
      "33/33 [==============================] - 79s 2s/step - loss: 5.5111 - accuracy: 0.0477\n",
      "Epoch 2/20\n",
      "33/33 [==============================] - 78s 2s/step - loss: 4.6452 - accuracy: 0.0817\n",
      "Epoch 3/20\n",
      "33/33 [==============================] - 80s 2s/step - loss: 3.6265 - accuracy: 0.2023\n",
      "Epoch 4/20\n",
      "33/33 [==============================] - 79s 2s/step - loss: 2.5988 - accuracy: 0.3833\n",
      "Epoch 5/20\n",
      "33/33 [==============================] - 79s 2s/step - loss: 1.7989 - accuracy: 0.5253\n",
      "Epoch 6/20\n",
      "33/33 [==============================] - 80s 2s/step - loss: 1.1346 - accuracy: 0.6800\n",
      "Epoch 7/20\n",
      "33/33 [==============================] - 79s 2s/step - loss: 0.7958 - accuracy: 0.7763\n",
      "Epoch 8/20\n",
      "33/33 [==============================] - 86s 3s/step - loss: 0.4930 - accuracy: 0.8658\n",
      "Epoch 9/20\n",
      "33/33 [==============================] - 87s 3s/step - loss: 0.3098 - accuracy: 0.9125\n",
      "Epoch 10/20\n",
      "33/33 [==============================] - 88s 3s/step - loss: 0.3144 - accuracy: 0.9105\n",
      "Epoch 11/20\n",
      "33/33 [==============================] - 88s 3s/step - loss: 0.2041 - accuracy: 0.9368\n",
      "Epoch 12/20\n",
      "33/33 [==============================] - 88s 3s/step - loss: 0.1287 - accuracy: 0.9621\n",
      "Epoch 13/20\n",
      "33/33 [==============================] - 88s 3s/step - loss: 0.1096 - accuracy: 0.9689\n",
      "Epoch 14/20\n",
      "33/33 [==============================] - 87s 3s/step - loss: 0.0946 - accuracy: 0.9728\n",
      "Epoch 15/20\n",
      "33/33 [==============================] - 87s 3s/step - loss: 0.0654 - accuracy: 0.9844\n",
      "Epoch 16/20\n",
      "33/33 [==============================] - 86s 3s/step - loss: 0.0542 - accuracy: 0.9864\n",
      "Epoch 17/20\n",
      "33/33 [==============================] - 87s 3s/step - loss: 0.0387 - accuracy: 0.9912\n",
      "Epoch 18/20\n",
      "33/33 [==============================] - 87s 3s/step - loss: 0.0345 - accuracy: 0.9912\n",
      "Epoch 19/20\n",
      "33/33 [==============================] - 86s 3s/step - loss: 0.0230 - accuracy: 0.9942\n",
      "Epoch 20/20\n",
      "33/33 [==============================] - 87s 3s/step - loss: 0.0268 - accuracy: 0.9922\n"
     ]
    },
    {
     "data": {
      "text/plain": [
       "<keras.src.callbacks.History at 0x28f9a261410>"
      ]
     },
     "execution_count": 11,
     "metadata": {},
     "output_type": "execute_result"
    }
   ],
   "source": [
    "model.fit(X, y, epochs=20, verbose=1)"
   ]
  },
  {
   "cell_type": "code",
   "execution_count": 12,
   "id": "77592f9b-7dc6-4380-a759-bb44efda7e4b",
   "metadata": {},
   "outputs": [
    {
     "name": "stdout",
     "output_type": "stream",
     "text": [
      "1/1 [==============================] - 2s 2s/step\n",
      "1/1 [==============================] - 0s 167ms/step\n",
      "1/1 [==============================] - 0s 118ms/step\n"
     ]
    }
   ],
   "source": [
    "seed_text = \"A car have\"\n",
    "next_words = 3\n",
    "\n",
    "for _ in range(next_words):\n",
    "    token_list = tokenizer.texts_to_sequences([seed_text])[0]\n",
    "    token_list = pad_sequences([token_list], maxlen=max_seq_len-1, padding='pre')\n",
    "    predicted = np.argmax(model.predict(token_list), axis=-1)\n",
    "    output_word = \"\"\n",
    "    for word, index in tokenizer.word_index.items():\n",
    "        if index == predicted:\n",
    "            output_word = word\n",
    "            break\n",
    "    seed_text += \" \" + output_word"
   ]
  },
  {
   "cell_type": "code",
   "execution_count": 13,
   "id": "d0bc9fef-b0f5-4608-99fb-17362c498fd0",
   "metadata": {},
   "outputs": [
    {
     "data": {
      "text/plain": [
       "'A car have machine on wheels'"
      ]
     },
     "execution_count": 13,
     "metadata": {},
     "output_type": "execute_result"
    }
   ],
   "source": [
    "seed_text"
   ]
  },
  {
   "cell_type": "code",
   "execution_count": null,
   "id": "740b5248-6807-4748-adc2-76b124b5f2c3",
   "metadata": {},
   "outputs": [],
   "source": []
  }
 ],
 "metadata": {
  "kernelspec": {
   "display_name": "Python 3 (ipykernel)",
   "language": "python",
   "name": "python3"
  },
  "language_info": {
   "codemirror_mode": {
    "name": "ipython",
    "version": 3
   },
   "file_extension": ".py",
   "mimetype": "text/x-python",
   "name": "python",
   "nbconvert_exporter": "python",
   "pygments_lexer": "ipython3",
   "version": "3.11.7"
  }
 },
 "nbformat": 4,
 "nbformat_minor": 5
}
